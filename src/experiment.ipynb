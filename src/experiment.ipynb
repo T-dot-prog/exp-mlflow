{
 "cells": [
  {
   "cell_type": "code",
   "execution_count": 1,
   "metadata": {},
   "outputs": [
    {
     "data": {
      "text/plain": [
       "'hello world'"
      ]
     },
     "execution_count": 1,
     "metadata": {},
     "output_type": "execute_result"
    }
   ],
   "source": [
    "\"hello world\""
   ]
  },
  {
   "cell_type": "code",
   "execution_count": 2,
   "metadata": {},
   "outputs": [],
   "source": [
    "import mlflow\n",
    "import mlflow.sklearn\n",
    "from sklearn.datasets import load_wine\n",
    "from sklearn.ensemble import RandomForestClassifier\n",
    "from sklearn.model_selection import train_test_split\n",
    "from sklearn.metrics import accuracy_score, confusion_matrix\n",
    "import matplotlib.pyplot as plt\n",
    "import seaborn as sns"
   ]
  },
  {
   "cell_type": "code",
   "execution_count": 3,
   "metadata": {},
   "outputs": [
    {
     "data": {
      "text/html": [
       "<pre style=\"white-space:pre;overflow-x:auto;line-height:normal;font-family:Menlo,'DejaVu Sans Mono',consolas,'Courier New',monospace\">Accessing as T-dot-prog\n",
       "</pre>\n"
      ],
      "text/plain": [
       "Accessing as T-dot-prog\n"
      ]
     },
     "metadata": {},
     "output_type": "display_data"
    },
    {
     "data": {
      "text/html": [
       "<pre style=\"white-space:pre;overflow-x:auto;line-height:normal;font-family:Menlo,'DejaVu Sans Mono',consolas,'Courier New',monospace\">Initialized MLflow to track repo <span style=\"color: #008000; text-decoration-color: #008000\">\"T-dot-prog/mlflow\"</span>\n",
       "</pre>\n"
      ],
      "text/plain": [
       "Initialized MLflow to track repo \u001b[32m\"T-dot-prog/mlflow\"\u001b[0m\n"
      ]
     },
     "metadata": {},
     "output_type": "display_data"
    },
    {
     "data": {
      "text/html": [
       "<pre style=\"white-space:pre;overflow-x:auto;line-height:normal;font-family:Menlo,'DejaVu Sans Mono',consolas,'Courier New',monospace\">Repository T-dot-prog/mlflow initialized!\n",
       "</pre>\n"
      ],
      "text/plain": [
       "Repository T-dot-prog/mlflow initialized!\n"
      ]
     },
     "metadata": {},
     "output_type": "display_data"
    }
   ],
   "source": [
    "import dagshub\n",
    "dagshub.init(repo_owner='T-dot-prog', repo_name='mlflow', mlflow=True)\n",
    "\n",
    "mlflow.set_tracking_uri(\"https://dagshub.com/T-dot-prog/mlflow.mlflow\")"
   ]
  },
  {
   "cell_type": "code",
   "execution_count": 4,
   "metadata": {},
   "outputs": [
    {
     "data": {
      "text/plain": [
       "<Experiment: artifact_location='mlflow-artifacts:/703411c19922452494e130a39024e122', creation_time=1749737796717, experiment_id='2', last_update_time=1749737796717, lifecycle_stage='active', name='Experiment-01', tags={}>"
      ]
     },
     "execution_count": 4,
     "metadata": {},
     "output_type": "execute_result"
    }
   ],
   "source": [
    "# Load Wine dataset\n",
    "wine = load_wine()\n",
    "X = wine.data\n",
    "y = wine.target\n",
    "\n",
    "# Train test split\n",
    "X_train, X_test, y_train, y_test = train_test_split(X, y, test_size=0.10, random_state=42)\n",
    "\n",
    "# Define the params for RF model\n",
    "max_depth = 8\n",
    "n_estimators = 5\n",
    "\n",
    "# Mention your experiment below\n",
    "mlflow.set_experiment('Experiment-01')\n"
   ]
  },
  {
   "cell_type": "code",
   "execution_count": null,
   "metadata": {},
   "outputs": [
    {
     "name": "stdout",
     "output_type": "stream",
     "text": [
      "🏃 View run blushing-cub-790 at: https://dagshub.com/T-dot-prog/mlflow.mlflow/#/experiments/2/runs/2f565288f5f440d9ba50e0b8bd0d19d6\n",
      "🧪 View experiment at: https://dagshub.com/T-dot-prog/mlflow.mlflow/#/experiments/2\n"
     ]
    },
    {
     "ename": "NameError",
     "evalue": "name '__file__' is not defined",
     "output_type": "error",
     "traceback": [
      "\u001b[31m---------------------------------------------------------------------------\u001b[39m",
      "\u001b[31mNameError\u001b[39m                                 Traceback (most recent call last)",
      "\u001b[36mCell\u001b[39m\u001b[36m \u001b[39m\u001b[32mIn[6]\u001b[39m\u001b[32m, line 14\u001b[39m\n\u001b[32m     12\u001b[39m \u001b[38;5;66;03m# log artifacts using mlflow\u001b[39;00m\n\u001b[32m     13\u001b[39m mlflow.log_artifact(\u001b[33m\"\u001b[39m\u001b[33mE:/mlflow/Confusion-matrix.png\u001b[39m\u001b[33m\"\u001b[39m)\n\u001b[32m---> \u001b[39m\u001b[32m14\u001b[39m mlflow.log_artifact(\u001b[34;43m__file__\u001b[39;49m)\n\u001b[32m     16\u001b[39m \u001b[38;5;66;03m# tags\u001b[39;00m\n\u001b[32m     17\u001b[39m mlflow.set_tags({\u001b[33m\"\u001b[39m\u001b[33mAuthor\u001b[39m\u001b[33m\"\u001b[39m: \u001b[33m'\u001b[39m\u001b[33mVikash\u001b[39m\u001b[33m'\u001b[39m, \u001b[33m\"\u001b[39m\u001b[33mProject\u001b[39m\u001b[33m\"\u001b[39m: \u001b[33m\"\u001b[39m\u001b[33mWine Classification\u001b[39m\u001b[33m\"\u001b[39m})\n",
      "\u001b[31mNameError\u001b[39m: name '__file__' is not defined"
     ]
    }
   ],
   "source": [
    "with mlflow.start_run():\n",
    "    rf = RandomForestClassifier(max_depth=max_depth, n_estimators=n_estimators, random_state=42)\n",
    "    rf.fit(X_train, y_train)\n",
    "\n",
    "    y_pred = rf.predict(X_test)\n",
    "    accuracy = accuracy_score(y_test, y_pred)\n",
    "\n",
    "    mlflow.log_metric('accuracy', accuracy)\n",
    "    mlflow.log_param('max_depth', max_depth)\n",
    "    mlflow.log_param('n_estimators', n_estimators)\n",
    "\n",
    "    # log artifacts using mlflow\n",
    "    mlflow.log_artifact(\"E:/mlflow/Confusion-matrix.png\")\n",
    "    mlflow.log_artifact('experiment.ipynb')\n",
    "\n",
    "    # tags\n",
    "    mlflow.set_tags({\"Author\": 'Vikash', \"Project\": \"Wine Classification\"})\n",
    "\n",
    "    # Log the model\n",
    "    mlflow.sklearn.log_model(rf, \"Random-Forest-Model\")\n",
    "\n",
    "    print(accuracy)"
   ]
  },
  {
   "cell_type": "code",
   "execution_count": null,
   "metadata": {},
   "outputs": [],
   "source": []
  }
 ],
 "metadata": {
  "kernelspec": {
   "display_name": ".venv",
   "language": "python",
   "name": "python3"
  },
  "language_info": {
   "codemirror_mode": {
    "name": "ipython",
    "version": 3
   },
   "file_extension": ".py",
   "mimetype": "text/x-python",
   "name": "python",
   "nbconvert_exporter": "python",
   "pygments_lexer": "ipython3",
   "version": "3.13.4"
  }
 },
 "nbformat": 4,
 "nbformat_minor": 2
}
